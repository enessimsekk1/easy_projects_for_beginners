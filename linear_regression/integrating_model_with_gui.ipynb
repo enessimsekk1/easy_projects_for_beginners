{
 "cells": [
  {
   "cell_type": "code",
   "execution_count": 46,
   "metadata": {},
   "outputs": [],
   "source": [
    "from tkinter import *\n",
    "import pickle\n"
   ]
  },
  {
   "cell_type": "code",
   "execution_count": 47,
   "metadata": {},
   "outputs": [],
   "source": [
    "#Loading the model\n",
    "MODEL_PATH = \"C:/Users/Enes/Desktop/FirstProject/Model/multiple_reg.sav\"\n",
    "loaded_model = pickle.load(open(MODEL_PATH, 'rb'))"
   ]
  },
  {
   "cell_type": "code",
   "execution_count": 48,
   "metadata": {},
   "outputs": [],
   "source": [
    "#calculating sales w.r.t input\n",
    "def calculate_sale(arg):\n",
    "    res = loaded_model.predict([[tv.get(),radio.get(),newspaper.get()]])\n",
    "    sale_label.config(text=\"Kahinatör : {:.2f} TL\".format(res[0][0]))"
   ]
  },
  {
   "cell_type": "code",
   "execution_count": 49,
   "metadata": {},
   "outputs": [
    {
     "data": {
      "text/plain": [
       "''"
      ]
     },
     "execution_count": 49,
     "metadata": {},
     "output_type": "execute_result"
    }
   ],
   "source": [
    "#Initializing the tkinter window\n",
    "master = Tk()\n",
    "master.geometry(\"700x400\")\n",
    "master.configure(background='#06565B')\n",
    "master.title('Satış Kahinatörü')"
   ]
  },
  {
   "cell_type": "code",
   "execution_count": 50,
   "metadata": {},
   "outputs": [],
   "source": [
    "#Label to show the estimated sale\n",
    "sale_label = Label(master, bg='#07575B', fg=\"white\", font=(\"Times\", 40, \"bold\"), text=\"Hello !\")\n",
    "sale_label.pack(padx=5, pady=20)"
   ]
  },
  {
   "cell_type": "code",
   "execution_count": 51,
   "metadata": {},
   "outputs": [],
   "source": [
    "#Scale to take TV advertising investment ammount from user\n",
    "tv = Scale(master, length=650, label=\"TV Price\", bg='#C4DFE6', fg=\"black\", from_=0, to=2000, orient=HORIZONTAL , command=calculate_sale)\n",
    "tv.set(10)\n",
    "tv.pack(padx=5, pady=5)"
   ]
  },
  {
   "cell_type": "code",
   "execution_count": 52,
   "metadata": {},
   "outputs": [],
   "source": [
    "#Scale to take Radio advertising investment ammount from user\n",
    "radio = Scale(master, length=650, label=\"Radio Price\", bg='#C4DFE6', fg=\"black\",from_=0, to=2000, orient=HORIZONTAL, command=calculate_sale)\n",
    "radio.set(10)\n",
    "radio.pack(padx=5, pady=5)"
   ]
  },
  {
   "cell_type": "code",
   "execution_count": 53,
   "metadata": {},
   "outputs": [],
   "source": [
    "#Scale to take Newspaper advertising investment ammount from user\n",
    "newspaper = Scale(master, length=650, label=\"Newspaper Price\", bg='#C4DFE6', fg=\"black\", from_=0, to=2000, orient=HORIZONTAL, command=calculate_sale)\n",
    "newspaper.set(10)\n",
    "newspaper.pack(padx=5, pady=5)"
   ]
  },
  {
   "cell_type": "code",
   "execution_count": null,
   "metadata": {},
   "outputs": [],
   "source": [
    "#Showing the Application\n",
    "mainloop()"
   ]
  },
  {
   "cell_type": "code",
   "execution_count": null,
   "metadata": {},
   "outputs": [],
   "source": []
  }
 ],
 "metadata": {
  "kernelspec": {
   "display_name": "Python 3",
   "language": "python",
   "name": "python3"
  },
  "language_info": {
   "codemirror_mode": {
    "name": "ipython",
    "version": 3
   },
   "file_extension": ".py",
   "mimetype": "text/x-python",
   "name": "python",
   "nbconvert_exporter": "python",
   "pygments_lexer": "ipython3",
   "version": "3.8.8"
  }
 },
 "nbformat": 4,
 "nbformat_minor": 4
}
